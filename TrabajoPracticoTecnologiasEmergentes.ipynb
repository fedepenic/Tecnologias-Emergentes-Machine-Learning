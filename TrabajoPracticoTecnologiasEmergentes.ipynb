{
 "cells": [
  {
   "attachments": {},
   "cell_type": "markdown",
   "metadata": {},
   "source": [
    "<center>\n",
    "\n",
    "# Trabajo Práctico Tecnologías Emergentes \n",
    "# Machine Learning\n",
    "\n",
    "### Alumnos: \n",
    "\n",
    "\n",
    "| Alumno | Padrón | \n",
    "|---|---|\n",
    "| Federico Mariano Penic | 102501 | \n",
    "| Alumno | Padrón | \n",
    "| Alumno | Padrón | \n",
    "\n",
    "</center>"
   ]
  },
  {
   "cell_type": "markdown",
   "metadata": {},
   "source": [
    "## Introducción\n",
    "\n",
    "La temática de nuestro proyecto será el tópico de Machine Learning. Para poder demostrar mejor las cualidades y usos de esta tecnología, decidimos inscribirnos en una competencia de Machine Learning en un sitio web dedicado a tal fin. En este caso, escogimos [Kaggle](https://www.kaggle.com/).\n",
    "\n",
    "Por lo tanto, a lo largo de esta presentación, nos concentraremos en realizar el ciclo completo de Machine Learning, que comprende etapas como (Entre otras): Análisis exploratorio y limpieza de datos, visualización, tuning de hiperparámetros, feature engineering, elección de mejor modelo predictivo y entrenamiento del modelo. "
   ]
  },
  {
   "attachments": {},
   "cell_type": "markdown",
   "metadata": {},
   "source": [
    "## Acerca de la competencia \n",
    "\n",
    "La competencia a la que nos inscribimos tiene como objetivo principal predecir los precios de diferentes hogares presentes en Ames, Iowa, Estados Unidos. Para esto, contamos con mucha información acerca de diversos aspectos de las casas que en muchas ocasiones no se tienen en cuenta, como por ejemplo el sistema eléctrico o el tipo de cimientos.\n",
    "\n",
    "Empleando todas las técnicas relacionadas con el Machine Learning, que mencionamos en la introducción, podremos determinar las variables o features tienen una mayor incidencia en el precio final de la residencia. \n",
    "\n",
    "Se puede encontrar más información de la competencia en el siguiente [link](https://www.kaggle.com/competitions/house-prices-advanced-regression-techniques/overview)."
   ]
  },
  {
   "attachments": {},
   "cell_type": "markdown",
   "metadata": {},
   "source": [
    "## Acerca de los datos \n",
    "\n",
    "La competencia nos provee con 4 archivos de un total de 957,39 Kb para poder cumplir con nuestros cometidos. \n",
    "\n",
    "- train.csv que será nuestro set de entrenamiento, a partir del cual entrenaremos nuestro modelos. \n",
    "- test.csv que será nuestro set de prueba, a partir del cual nuestros modelos realizarán predicciones, que posteriormente se subirán a la plataforma. \n",
    "- data_description.txt que es una descripción detallada de cada una de las features. \n",
    "- sample_submission.csv que ejemplifica una posible predicción final, empleando un sencillo modelo de regresión lineal. "
   ]
  }
 ],
 "metadata": {
  "kernelspec": {
   "display_name": "Python 3",
   "language": "python",
   "name": "python3"
  },
  "language_info": {
   "codemirror_mode": {
    "name": "ipython",
    "version": 3
   },
   "file_extension": ".py",
   "mimetype": "text/x-python",
   "name": "python",
   "nbconvert_exporter": "python",
   "pygments_lexer": "ipython3",
   "version": "3.10.7"
  },
  "orig_nbformat": 4,
  "vscode": {
   "interpreter": {
    "hash": "369f2c481f4da34e4445cda3fffd2e751bd1c4d706f27375911949ba6bb62e1c"
   }
  }
 },
 "nbformat": 4,
 "nbformat_minor": 2
}
